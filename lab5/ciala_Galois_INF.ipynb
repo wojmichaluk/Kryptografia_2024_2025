{
 "cells": [
  {
   "cell_type": "markdown",
   "id": "b0043b1f",
   "metadata": {},
   "source": [
    "# Arytmetyka w ciałach Galois\n",
    "\n",
    "## Co to jest ciało Galois?\n",
    "\n",
    "**Ciałem Galois** nazywamy ciało $(G,+,\\cdot)$ o skończonej liczbie elementów. Najprostszym przykładem takiego ciała są $\\mathbb{Z}_p$, gdzie $p$ jest liczbą pierwszą. *Rzędem* ciała skończonego nazywamy liczbę jego elementów. Ciała skończone tego samego rzędu są izomorficzne, tzn. istnieje pomiędzy nimi bijekcja zachowująca działania.\n",
    "\n",
    "Kolejnym ważnym przykładem ciała Galois jest pierścień ilorazowy $\\mathbb{Z}_p[X]$ / $W(X)$, gdzie $p$ jest liczbą pierwszą, a $W$ jest nierozkładalnym wielomianem monicznym stopnia $n$ (czyli takim, którego współczynnik przy $X^n$ jest równy 1).\n",
    "\n",
    "## Pierścień $\\mathbb{Z}_n$\n",
    "\n",
    "W ciele $\\mathbb{Z}$ wprowadzamy relację równoważności$\\mod n$ (gdzie $n$ jest ustaloną, dodatnią liczbą naturalną):\n",
    "$$a\\equiv_n b\\Leftrightarrow [a]_n=[b]_n$$\n",
    "gdzie $[\\cdot]_n$ oznacza resztę z dzielenia przez $n$.\n",
    "\n",
    "Arytmetyka$\\mod n$:$$a+b=[a+b]_n$$ $$ab=[ab]_n$$"
   ]
  },
  {
   "cell_type": "markdown",
   "id": "d91341b6",
   "metadata": {},
   "source": [
    "**Pierwiastkiem pierwotnym**$\\mod n$ nazywamy liczbę, której potęgi$\\mod n$ dają wszystkie reszty z dzielenia przez $n$, które są względnie pierwsze z $n$. Pierwiastek pierwotny istnieje tylko dla następujących $n$:\n",
    "- $n=p^k$, gdzie $p$ jest liczbą pierwszą *różną* od 2,\n",
    "- $n=2p^k$, gdzie $p$ - j. w.,\n",
    "- $n=2$ lub $n=4$.\n",
    "\n",
    "Przykładowo, wszystkie reszty z dzielenia przez 5 względnie pierwsze z 5 to 4, 3, 2, 1 (zero odpada - nie jest względnie pierwsze). Kolejne potęgi $2^k\\mod 5$ to:\n",
    "- $2^1\\mod 5=2$,\n",
    "- $2^2\\mod 5=4$,\n",
    "- $2^3\\mod 5=3$,\n",
    "- $2^4\\mod 5=1$.\n",
    "\n",
    "Czyli 2 jest pierwiastkiem pierwotnym$\\mod 5$."
   ]
  },
  {
   "cell_type": "markdown",
   "id": "f796ef8e",
   "metadata": {},
   "source": [
    "### Sage math\n",
    "Konstruujemy pierścień `R = Integers(n)` lub `R = IntegerModRing(n)`, gdzie za `n` podajemy ustaloną liczbę naturalną. Jeżeli chcemy poznać postać liczby `x` w tym pierścieniu, to piszemy `R(x)`. Inną opcją jest funkcja `mod(x, n)`."
   ]
  },
  {
   "cell_type": "code",
   "execution_count": 1,
   "id": "b4db6339",
   "metadata": {},
   "outputs": [
    {
     "name": "stdout",
     "output_type": "stream",
     "text": [
      "2\n",
      "<class 'sage.rings.finite_rings.integer_mod.IntegerMod_int'>\n"
     ]
    }
   ],
   "source": [
    "from sage.all import *\n",
    "\n",
    "R = Integers(3)\n",
    "x = R(5)\n",
    "\n",
    "print(x)\n",
    "print(type(x))"
   ]
  },
  {
   "cell_type": "code",
   "execution_count": 2,
   "id": "d437e6b3",
   "metadata": {},
   "outputs": [
    {
     "data": {
      "text/plain": [
       "2"
      ]
     },
     "execution_count": 2,
     "metadata": {},
     "output_type": "execute_result"
    }
   ],
   "source": [
    "4 * x"
   ]
  },
  {
   "cell_type": "code",
   "execution_count": 3,
   "id": "f945f045",
   "metadata": {},
   "outputs": [
    {
     "data": {
      "text/plain": [
       "1"
      ]
     },
     "execution_count": 3,
     "metadata": {},
     "output_type": "execute_result"
    }
   ],
   "source": [
    "x + 2"
   ]
  },
  {
   "cell_type": "code",
   "execution_count": 4,
   "id": "8ad9b5d7",
   "metadata": {},
   "outputs": [
    {
     "data": {
      "text/plain": [
       "1"
      ]
     },
     "execution_count": 4,
     "metadata": {},
     "output_type": "execute_result"
    }
   ],
   "source": [
    "x ** 10"
   ]
  },
  {
   "cell_type": "code",
   "execution_count": 5,
   "id": "86859c0a",
   "metadata": {},
   "outputs": [
    {
     "data": {
      "text/plain": [
       "0"
      ]
     },
     "execution_count": 5,
     "metadata": {},
     "output_type": "execute_result"
    }
   ],
   "source": [
    "R(2 + 7)"
   ]
  },
  {
   "cell_type": "code",
   "execution_count": 6,
   "id": "84417cfd",
   "metadata": {},
   "outputs": [
    {
     "data": {
      "text/plain": [
       "2"
      ]
     },
     "execution_count": 6,
     "metadata": {},
     "output_type": "execute_result"
    }
   ],
   "source": [
    "R(2 * 4)"
   ]
  },
  {
   "cell_type": "code",
   "execution_count": 7,
   "id": "259e5571",
   "metadata": {},
   "outputs": [
    {
     "name": "stdout",
     "output_type": "stream",
     "text": [
      "0\n",
      "<class 'sage.rings.finite_rings.integer_mod.IntegerMod_int'>\n"
     ]
    }
   ],
   "source": [
    "RR = IntegerModRing(5)\n",
    "x = RR(10)\n",
    "\n",
    "print(x)\n",
    "print(type(x))"
   ]
  },
  {
   "cell_type": "code",
   "execution_count": 8,
   "id": "7cadde47",
   "metadata": {},
   "outputs": [
    {
     "name": "stdout",
     "output_type": "stream",
     "text": [
      "2\n",
      "<class 'sage.rings.finite_rings.integer_mod.IntegerMod_int'>\n"
     ]
    }
   ],
   "source": [
    "x = mod(10, 4)\n",
    "\n",
    "print(x)\n",
    "print(type(x))"
   ]
  },
  {
   "cell_type": "markdown",
   "id": "f287082e",
   "metadata": {},
   "source": [
    "### Dzielenie w arytmetyce modularnej\n",
    "\n",
    "W momencie, gdy $p$ jest liczbą pierwszą, pierścień $\\mathbb{Z}_p$ jest czymś więcej - jest ciałem, czyli każdy niezerowy element posiada *element odwrotny*, a zatem możemy zdefiniować operację dzielenia:\n",
    "$$\n",
    "a/b=a*b^{-1},\n",
    "$$\n",
    "gdzie $b^{-1}$ oznacza właśnie element odwrotny do $b$, czyli taki, że $b^{-1}*b=b*b^{-1}=1$.\n",
    "\n",
    "W przypadku, gdy podstawą arytmetyki modularnej nie jest liczba pierwsza, to nie mamy do czynienia z ciałem - nie wszystkie elementy będą odwracalne (tzn. nie każde dzielenie jest wykonalne)."
   ]
  },
  {
   "cell_type": "code",
   "execution_count": 9,
   "id": "9f50d95e",
   "metadata": {},
   "outputs": [
    {
     "data": {
      "text/plain": [
       "3"
      ]
     },
     "execution_count": 9,
     "metadata": {},
     "output_type": "execute_result"
    }
   ],
   "source": [
    "x = mod(4, 5) # podstawa 5 - liczba pierwsza\n",
    "x / 3         # liczbą odwrotną do 3 jest 2, bo 3 * 2 mod 5 = 1, czyli 4 / 3 mod 5 = 4 * 2 mod 5 = 3"
   ]
  },
  {
   "cell_type": "code",
   "execution_count": 10,
   "id": "1875b4ba",
   "metadata": {},
   "outputs": [
    {
     "ename": "ZeroDivisionError",
     "evalue": "inverse of Mod(2, 4) does not exist",
     "output_type": "error",
     "traceback": [
      "\u001b[0;31m---------------------------------------------------------------------------\u001b[0m",
      "\u001b[0;31mZeroDivisionError\u001b[0m                         Traceback (most recent call last)",
      "Cell \u001b[0;32mIn[10], line 2\u001b[0m\n\u001b[1;32m      1\u001b[0m y \u001b[38;5;241m=\u001b[39m mod(\u001b[38;5;241m3\u001b[39m, \u001b[38;5;241m4\u001b[39m) \u001b[38;5;66;03m# podstawa 4 - nie jest liczbą pierwszą\u001b[39;00m\n\u001b[0;32m----> 2\u001b[0m \u001b[43my\u001b[49m\u001b[43m \u001b[49m\u001b[38;5;241;43m/\u001b[39;49m\u001b[43m \u001b[49m\u001b[38;5;241;43m2\u001b[39;49m         \u001b[38;5;66;03m# każda wielokrotność 2 jest liczbą parzystą, zatem nigdy jej reszta z dzielenia przez 4 nie da 1\u001b[39;00m\n\u001b[1;32m      3\u001b[0m               \u001b[38;5;66;03m# zatem 2 nie jest odwracalne\u001b[39;00m\n",
      "File \u001b[0;32m~/miniforge3/envs/sage/lib/python3.10/site-packages/sage/structure/element.pyx:1739\u001b[0m, in \u001b[0;36msage.structure.element.Element.__truediv__ (build/cythonized/sage/structure/element.c:21324)\u001b[0;34m()\u001b[0m\n\u001b[1;32m   1737\u001b[0m \n\u001b[1;32m   1738\u001b[0m         try:\n\u001b[0;32m-> 1739\u001b[0m             return coercion_model.bin_op(left, right, truediv)\n\u001b[1;32m   1740\u001b[0m         except TypeError:\n\u001b[1;32m   1741\u001b[0m             return NotImplemented\n",
      "File \u001b[0;32m~/miniforge3/envs/sage/lib/python3.10/site-packages/sage/structure/coerce.pyx:1236\u001b[0m, in \u001b[0;36msage.structure.coerce.CoercionModel.bin_op (build/cythonized/sage/structure/coerce.c:15971)\u001b[0;34m()\u001b[0m\n\u001b[1;32m   1234\u001b[0m     self._record_exception()\n\u001b[1;32m   1235\u001b[0m else:\n\u001b[0;32m-> 1236\u001b[0m     return PyObject_CallObject(op, xy)\n\u001b[1;32m   1237\u001b[0m \n\u001b[1;32m   1238\u001b[0m if op is mul:\n",
      "File \u001b[0;32m~/miniforge3/envs/sage/lib/python3.10/site-packages/sage/structure/element.pyx:1734\u001b[0m, in \u001b[0;36msage.structure.element.Element.__truediv__ (build/cythonized/sage/structure/element.c:21247)\u001b[0;34m()\u001b[0m\n\u001b[1;32m   1732\u001b[0m cdef int cl = classify_elements(left, right)\n\u001b[1;32m   1733\u001b[0m if HAVE_SAME_PARENT(cl):\n\u001b[0;32m-> 1734\u001b[0m     return (<Element>left)._div_(right)\n\u001b[1;32m   1735\u001b[0m if BOTH_ARE_ELEMENT(cl):\n\u001b[1;32m   1736\u001b[0m     return coercion_model.bin_op(left, right, truediv)\n",
      "File \u001b[0;32m~/miniforge3/envs/sage/lib/python3.10/site-packages/sage/rings/finite_rings/integer_mod.pyx:2649\u001b[0m, in \u001b[0;36msage.rings.finite_rings.integer_mod.IntegerMod_int._div_ (build/cythonized/sage/rings/finite_rings/integer_mod.c:39909)\u001b[0;34m()\u001b[0m\n\u001b[1;32m   2647\u001b[0m right_inverse = self._modulus.inverses[(<IntegerMod_int>right).ivalue]\n\u001b[1;32m   2648\u001b[0m if right_inverse is None:\n\u001b[0;32m-> 2649\u001b[0m     raise ZeroDivisionError(f\"inverse of Mod({right}, {self._modulus.sageInteger}) does not exist\")\n\u001b[1;32m   2650\u001b[0m else:\n\u001b[1;32m   2651\u001b[0m     return self._new_c((self.ivalue * (<IntegerMod_int>right_inverse).ivalue) % self._modulus.int32)\n",
      "\u001b[0;31mZeroDivisionError\u001b[0m: inverse of Mod(2, 4) does not exist"
     ]
    }
   ],
   "source": [
    "y = mod(3, 4) # podstawa 4 - nie jest liczbą pierwszą\n",
    "y / 2         # każda wielokrotność 2 jest liczbą parzystą, zatem nigdy jej reszta z dzielenia przez 4 nie da 1\n",
    "              # zatem 2 nie jest odwracalne"
   ]
  },
  {
   "cell_type": "markdown",
   "id": "5b8ac8e6",
   "metadata": {},
   "source": [
    "Pierwiastki pierwotne w Sage znajdujemy funkcją `primitive_root(n)`."
   ]
  },
  {
   "cell_type": "code",
   "execution_count": 11,
   "id": "5c1b2de3",
   "metadata": {},
   "outputs": [
    {
     "name": "stdout",
     "output_type": "stream",
     "text": [
      "2\n",
      "<class 'sage.rings.integer.Integer'>\n"
     ]
    }
   ],
   "source": [
    "x = primitive_root(1907)\n",
    "\n",
    "print(x)\n",
    "print(type(x))"
   ]
  },
  {
   "cell_type": "code",
   "execution_count": 12,
   "id": "ed1f74d5",
   "metadata": {},
   "outputs": [
    {
     "ename": "ValueError",
     "evalue": "no primitive root",
     "output_type": "error",
     "traceback": [
      "\u001b[0;31m---------------------------------------------------------------------------\u001b[0m",
      "\u001b[0;31mValueError\u001b[0m                                Traceback (most recent call last)",
      "Cell \u001b[0;32mIn[12], line 1\u001b[0m\n\u001b[0;32m----> 1\u001b[0m \u001b[43mprimitive_root\u001b[49m\u001b[43m(\u001b[49m\u001b[38;5;241;43m15\u001b[39;49m\u001b[43m)\u001b[49m \u001b[38;5;66;03m# nie istnieją pierwiastki pierwotne mod 15\u001b[39;00m\n",
      "File \u001b[0;32m~/miniforge3/envs/sage/lib/python3.10/site-packages/sage/arith/misc.py:4428\u001b[0m, in \u001b[0;36mprimitive_root\u001b[0;34m(n, check)\u001b[0m\n\u001b[1;32m   4426\u001b[0m     \u001b[38;5;28;01mif\u001b[39;00m m \u001b[38;5;241m%\u001b[39m \u001b[38;5;241m2\u001b[39m \u001b[38;5;129;01mand\u001b[39;00m m\u001b[38;5;241m.\u001b[39mis_prime_power():\n\u001b[1;32m   4427\u001b[0m         \u001b[38;5;28;01mreturn\u001b[39;00m ZZ(pari(n)\u001b[38;5;241m.\u001b[39mznprimroot())\n\u001b[0;32m-> 4428\u001b[0m \u001b[38;5;28;01mraise\u001b[39;00m \u001b[38;5;167;01mValueError\u001b[39;00m(\u001b[38;5;124m\"\u001b[39m\u001b[38;5;124mno primitive root\u001b[39m\u001b[38;5;124m\"\u001b[39m)\n",
      "\u001b[0;31mValueError\u001b[0m: no primitive root"
     ]
    }
   ],
   "source": [
    "primitive_root(15) # nie istnieją pierwiastki pierwotne mod 15"
   ]
  },
  {
   "cell_type": "markdown",
   "id": "76290854",
   "metadata": {},
   "source": [
    "### Python"
   ]
  },
  {
   "cell_type": "markdown",
   "id": "d1feb566",
   "metadata": {},
   "source": [
    "W Pythonie nie poszalejemy - operator `%` zwraca resztę z dzielenia. I to tyle. Funkcje do arytmetyki mod $n$ można znaleźć w module **SymPy**."
   ]
  },
  {
   "cell_type": "code",
   "execution_count": 13,
   "id": "627d5866",
   "metadata": {},
   "outputs": [
    {
     "name": "stdout",
     "output_type": "stream",
     "text": [
      "1\n",
      "<class 'int'>\n"
     ]
    }
   ],
   "source": [
    "x = 5 % 2\n",
    "\n",
    "print(x)\n",
    "print(type(x))"
   ]
  },
  {
   "cell_type": "markdown",
   "id": "4ef37075",
   "metadata": {},
   "source": [
    "## Zadanie 1\n",
    "\n",
    "Zaimplementować w Pythonie klasę `Zn(N)`, czyli pierścień reszt z dzielenia przez `N`. Przeładować operatory `+`, `-`, `*` i `**` tak, aby na obiektach klasy wykonywały działania mod `N`, działania dodawania i mnożenia przez `int` oraz metodę `__repr__`."
   ]
  },
  {
   "cell_type": "code",
   "execution_count": 14,
   "id": "f4f0d383",
   "metadata": {},
   "outputs": [],
   "source": [
    "# your code here\n",
    "class Zn:\n",
    "    def __init__(self, val, N):\n",
    "        self.val = val % N\n",
    "        self.N = N\n",
    "\n",
    "    def check_argument(self, argument):\n",
    "        if not isinstance(argument, Zn):\n",
    "            if isinstance(argument, int):\n",
    "                return Zn(argument, self.N)\n",
    "            raise TypeError(f\"Argument operacji powinien być obiektem klasy Zn lub liczbą całkowitą! Otrzymano typ: {type(argument)}\")\n",
    "        elif argument.N != self.N:\n",
    "            raise ValueError(f\"Różne podstawy modularne N w argumentach: {self.N} oraz {argument.N}\")\n",
    "\n",
    "        return argument\n",
    "\n",
    "    def is_negative_power(self, argument):\n",
    "        return isinstance(argument, int) and argument < 0\n",
    "\n",
    "    def find_modular_inverse(self):\n",
    "        for i in range(1, self.N):\n",
    "            if i * self.val % self.N == 1:\n",
    "                return i\n",
    "\n",
    "        raise ZeroDivisionError(f\"{self.val} nie ma odwrotności modularnej dla podstawy modularnej {self.N}\")\n",
    "\n",
    "    def get_value(self):\n",
    "        return self.val\n",
    "    \n",
    "    def __add__(self, other):\n",
    "        other = self.check_argument(other)\n",
    "        return Zn(self.val + other.val, self.N)\n",
    "\n",
    "    def __radd__(self, other):\n",
    "        return self + other\n",
    "\n",
    "    def __sub__(self, other):\n",
    "        other = self.check_argument(other)\n",
    "        return Zn(self.val - other.val, self.N)\n",
    "\n",
    "    def __rsub__(self, other):\n",
    "        other = self.check_argument(other)\n",
    "        return other - self\n",
    "\n",
    "    def __mul__(self, other):\n",
    "        other = self.check_argument(other)\n",
    "        return Zn(self.val * other.val, self.N) \n",
    "\n",
    "    def __rmul__(self, other):\n",
    "        return self * other\n",
    "\n",
    "    def __pow__(self, other):\n",
    "        if self.is_negative_power(other):\n",
    "            power = -other\n",
    "            mod_inv = self.find_modular_inverse()\n",
    "            return Zn(mod_inv ** power, self.N)\n",
    "        else:\n",
    "            other = self.check_argument(other)\n",
    "            return Zn(self.val ** other.val, self.N)\n",
    "\n",
    "    def __rpow__(self, other):\n",
    "        other = self.check_argument(other)\n",
    "        return other ** self\n",
    "\n",
    "    def __str__(self):\n",
    "        return self.__repr__()\n",
    "    \n",
    "    def __repr__(self):\n",
    "        return str(self.val)"
   ]
  },
  {
   "cell_type": "code",
   "execution_count": 15,
   "id": "f9dece7e",
   "metadata": {},
   "outputs": [
    {
     "name": "stdout",
     "output_type": "stream",
     "text": [
      "2 3 0\n",
      "2 6 1 1 1 5 5\n"
     ]
    }
   ],
   "source": [
    "# TESTY\n",
    "x = Zn(2, 7)\n",
    "y = Zn(10, 7)\n",
    "z = Zn(14, 7)\n",
    "\n",
    "print(x, y, z)\n",
    "# 2 3 0\n",
    "\n",
    "print(x + z, x * y, x ** y, 6 + x, x + 6, 4 * y, y * 4)\n",
    "# 2 6 1 1 1 5 5"
   ]
  },
  {
   "cell_type": "code",
   "execution_count": 16,
   "id": "716b64a4-baa0-4872-8e2f-3d093c9417b4",
   "metadata": {},
   "outputs": [
    {
     "name": "stdout",
     "output_type": "stream",
     "text": [
      "4\n",
      "5\n"
     ]
    },
    {
     "ename": "ZeroDivisionError",
     "evalue": "0 nie ma odwrotności modularnej dla podstawy modularnej 7",
     "output_type": "error",
     "traceback": [
      "\u001b[0;31m---------------------------------------------------------------------------\u001b[0m",
      "\u001b[0;31mZeroDivisionError\u001b[0m                         Traceback (most recent call last)",
      "Cell \u001b[0;32mIn[16], line 4\u001b[0m\n\u001b[1;32m      2\u001b[0m \u001b[38;5;28mprint\u001b[39m(x \u001b[38;5;241m*\u001b[39m\u001b[38;5;241m*\u001b[39m \u001b[38;5;241m-\u001b[39m\u001b[38;5;241m1\u001b[39m)\n\u001b[1;32m      3\u001b[0m \u001b[38;5;28mprint\u001b[39m(y \u001b[38;5;241m*\u001b[39m\u001b[38;5;241m*\u001b[39m \u001b[38;5;241m-\u001b[39m\u001b[38;5;241m1\u001b[39m)\n\u001b[0;32m----> 4\u001b[0m \u001b[38;5;28mprint\u001b[39m(\u001b[43mz\u001b[49m\u001b[43m \u001b[49m\u001b[38;5;241;43m*\u001b[39;49m\u001b[38;5;241;43m*\u001b[39;49m\u001b[43m \u001b[49m\u001b[38;5;241;43m-\u001b[39;49m\u001b[38;5;241;43m1\u001b[39;49m) \u001b[38;5;66;03m# błąd - 0 nie ma odwrotności modularnej!\u001b[39;00m\n",
      "Cell \u001b[0;32mIn[14], line 55\u001b[0m, in \u001b[0;36mZn.__pow__\u001b[0;34m(self, other)\u001b[0m\n\u001b[1;32m     53\u001b[0m \u001b[38;5;28;01mif\u001b[39;00m \u001b[38;5;28mself\u001b[39m\u001b[38;5;241m.\u001b[39mis_negative_power(other):\n\u001b[1;32m     54\u001b[0m     power \u001b[38;5;241m=\u001b[39m \u001b[38;5;241m-\u001b[39mother\n\u001b[0;32m---> 55\u001b[0m     mod_inv \u001b[38;5;241m=\u001b[39m \u001b[38;5;28;43mself\u001b[39;49m\u001b[38;5;241;43m.\u001b[39;49m\u001b[43mfind_modular_inverse\u001b[49m\u001b[43m(\u001b[49m\u001b[43m)\u001b[49m\n\u001b[1;32m     56\u001b[0m     \u001b[38;5;28;01mreturn\u001b[39;00m Zn(mod_inv \u001b[38;5;241m*\u001b[39m\u001b[38;5;241m*\u001b[39m power, \u001b[38;5;28mself\u001b[39m\u001b[38;5;241m.\u001b[39mN)\n\u001b[1;32m     57\u001b[0m \u001b[38;5;28;01melse\u001b[39;00m:\n",
      "Cell \u001b[0;32mIn[14], line 25\u001b[0m, in \u001b[0;36mZn.find_modular_inverse\u001b[0;34m(self)\u001b[0m\n\u001b[1;32m     22\u001b[0m     \u001b[38;5;28;01mif\u001b[39;00m i \u001b[38;5;241m*\u001b[39m \u001b[38;5;28mself\u001b[39m\u001b[38;5;241m.\u001b[39mval \u001b[38;5;241m%\u001b[39m \u001b[38;5;28mself\u001b[39m\u001b[38;5;241m.\u001b[39mN \u001b[38;5;241m==\u001b[39m \u001b[38;5;241m1\u001b[39m:\n\u001b[1;32m     23\u001b[0m         \u001b[38;5;28;01mreturn\u001b[39;00m i\n\u001b[0;32m---> 25\u001b[0m \u001b[38;5;28;01mraise\u001b[39;00m \u001b[38;5;167;01mZeroDivisionError\u001b[39;00m(\u001b[38;5;124mf\u001b[39m\u001b[38;5;124m\"\u001b[39m\u001b[38;5;132;01m{\u001b[39;00m\u001b[38;5;28mself\u001b[39m\u001b[38;5;241m.\u001b[39mval\u001b[38;5;132;01m}\u001b[39;00m\u001b[38;5;124m nie ma odwrotności modularnej dla podstawy modularnej \u001b[39m\u001b[38;5;132;01m{\u001b[39;00m\u001b[38;5;28mself\u001b[39m\u001b[38;5;241m.\u001b[39mN\u001b[38;5;132;01m}\u001b[39;00m\u001b[38;5;124m\"\u001b[39m)\n",
      "\u001b[0;31mZeroDivisionError\u001b[0m: 0 nie ma odwrotności modularnej dla podstawy modularnej 7"
     ]
    }
   ],
   "source": [
    "# odwrotności modularne\n",
    "print(x ** -1)\n",
    "print(y ** -1)\n",
    "print(z ** -1) # błąd - 0 nie ma odwrotności modularnej!"
   ]
  },
  {
   "cell_type": "code",
   "execution_count": 17,
   "id": "f70210b6-a968-4c2d-a73c-829fc8521841",
   "metadata": {},
   "outputs": [
    {
     "name": "stdout",
     "output_type": "stream",
     "text": [
      "1\n",
      "3\n",
      "6\n"
     ]
    }
   ],
   "source": [
    "# ujemne potęgi\n",
    "print(x ** -3)\n",
    "print(y ** -5)\n",
    "print(x ** -4 * y ** -7)"
   ]
  },
  {
   "cell_type": "markdown",
   "id": "0750ef60",
   "metadata": {},
   "source": [
    "## Pierścienie ilorazowe wielomianów\n",
    "\n",
    "Aby utworzyć pierścień ilorazowy $\\mathbb{Z}_n[X]$ / $W(X)$ w Sage musimy najpierw utworzyć $\\mathbb{Z}_n[X]$, czyli pierścień wielomianów o współczynnikach z $\\mathbb{Z}_n$:\n",
    "\n",
    "`R = PolynomialRing(Integers(n), 'X')`\n",
    "\n",
    "Jeżeli w dalszej części kodu mamy zamiar korzystać z wielomianów z tego pierścienia, to dobrze jest rozdzielić nazewnictwo zmiennych niezależnych:\n",
    "\n",
    "`X = R.gen()`\n",
    "\n",
    "Teraz każdy wielomian zmiennej `X` będzie przez Sage traktowany jako element pierścienia `R`."
   ]
  },
  {
   "cell_type": "code",
   "execution_count": 18,
   "id": "2a8a7cb1",
   "metadata": {},
   "outputs": [
    {
     "data": {
      "text/plain": [
       "X^6 + 2*X^4 + 2*X^2 + 1"
      ]
     },
     "execution_count": 18,
     "metadata": {},
     "output_type": "execute_result"
    }
   ],
   "source": [
    "R = PolynomialRing(Integers(5), 'X')\n",
    "X = R.gen()\n",
    "\n",
    "X ** 6 - 13 * X ** 4 + 12 * X ** 2 - 10 * X + 6"
   ]
  },
  {
   "cell_type": "markdown",
   "id": "f606fdb6",
   "metadata": {},
   "source": [
    "Pierścień ilorazowy tworzymy metodą `R.quotient(W, 'x')`, gdzie `W` jest dowolnym wielomianem. Podobnie jak poprzednio, dobrze jest od razu zdefiniować `x` jako zmienną niezależną wielomianów z nowego pierścienia."
   ]
  },
  {
   "cell_type": "code",
   "execution_count": 19,
   "id": "c276fa4e",
   "metadata": {},
   "outputs": [
    {
     "data": {
      "text/plain": [
       "x^2 + 4"
      ]
     },
     "execution_count": 19,
     "metadata": {},
     "output_type": "execute_result"
    }
   ],
   "source": [
    "Rq = R.quotient(X ** 4 + 1, 'x')\n",
    "x = Rq.gen()\n",
    "\n",
    "x ** 6 - 13 * x ** 4 + 12 * x ** 2 - 10 * x + 6"
   ]
  },
  {
   "cell_type": "code",
   "execution_count": 20,
   "id": "04a7edfb",
   "metadata": {},
   "outputs": [
    {
     "data": {
      "text/plain": [
       "4*x^3 + 2*x^2 + 2*x + 1"
      ]
     },
     "execution_count": 20,
     "metadata": {},
     "output_type": "execute_result"
    }
   ],
   "source": [
    "w1 = 7 * x ** 6 + 14\n",
    "w2 = 24 * x ** 4 - 5 * x ** 2 - 7 * x + 13\n",
    "\n",
    "expand(w1 * w2)"
   ]
  },
  {
   "cell_type": "markdown",
   "id": "c48d18d8",
   "metadata": {},
   "source": [
    "## Zadanie 2\n",
    "\n",
    "Mając klasę `Zn(N)`, zaimplementować w Pythonie klasę `ZnW(N, W)`, czyli pierścień ilorazowy $\\mathbb{Z}_n[X]$ / $W(X)$ z działaniami dodawania i mnożenia wielomianów."
   ]
  },
  {
   "cell_type": "markdown",
   "id": "592a27cc",
   "metadata": {},
   "source": [
    "Dane testowe:"
   ]
  },
  {
   "cell_type": "markdown",
   "id": "4b263dcf",
   "metadata": {},
   "source": [
    "\\begin{align}\n",
    "    w1 &= 7x^6+14x^3 \\\\\n",
    "    w2 &= 24x^4-5x^2-7x+13 \\\\\n",
    "    w3 &= 23x^5-3x^4+x^3+35x^2+4\n",
    "\\end{align}"
   ]
  },
  {
   "cell_type": "markdown",
   "id": "da891d99",
   "metadata": {},
   "source": [
    "Reprezentacja w $\\mathbb{Z}_{17}[X]$ / $(X^4+1)$, tzn. dla $n=17$ i $W(X)=X^4+1$:"
   ]
  },
  {
   "cell_type": "markdown",
   "id": "6fd2164a",
   "metadata": {},
   "source": [
    "\\begin{align}\n",
    "    w1 &= 14x^3 + 10x^2 \\\\\n",
    "    w2 &= 12x^2 + 10x + 6 \\\\\n",
    "    w3 &= x^3 + x^2 + 11x + 7\n",
    "\\end{align}"
   ]
  },
  {
   "cell_type": "markdown",
   "id": "0c24611c",
   "metadata": {},
   "source": [
    "Arytmetyka:"
   ]
  },
  {
   "cell_type": "markdown",
   "id": "25cfaac4",
   "metadata": {},
   "source": [
    "\\begin{align}\n",
    "    w1+w2 &= 14x^3 + 5x^2 + 10x + 6 \\\\\n",
    "    w1*w2 &= 14x^3 + 9x^2 + 2x + 12 \\\\\n",
    "    6*w3 &= 6x^3 + 6x^2 + 15x + 8\n",
    "\\end{align}"
   ]
  },
  {
   "cell_type": "code",
   "execution_count": 21,
   "id": "d24cb816",
   "metadata": {},
   "outputs": [],
   "source": [
    "# your code here\n",
    "import numpy as np\n",
    "\n",
    "class ZnW:\n",
    "    def __init__(self, N, W, p):\n",
    "        self.N = N\n",
    "        self.W = W\n",
    "        self.r = self.calculate_polynomial(p)\n",
    "\n",
    "    def calculate_polynomial(self, p):\n",
    "        if not isinstance(p, np.ndarray):\n",
    "            if isinstance(p, int):\n",
    "                p = np.array([p])\n",
    "            else:\n",
    "                raise TypeError(f\"Argument powinien być obiektem klasy numpy.ndarray lub liczbą całkowitą! Otrzymano typ: {type(p)}\")\n",
    "\n",
    "        _, remainder = np.polydiv(p, self.W)\n",
    "        remainder_mod = []\n",
    "        \n",
    "        for coef in remainder:\n",
    "            r = Zn(int(coef), self.N)\n",
    "            remainder_mod.append(r.get_value())\n",
    "            \n",
    "        return np.array(remainder_mod)\n",
    "\n",
    "    def check_argument(self, argument):\n",
    "        if not isinstance(argument, ZnW):\n",
    "            return ZnW(self.N, self.W, argument)\n",
    "        elif argument.N != self.N:\n",
    "            raise ValueError(f\"Różne podstawy modularne N w argumentach: {self.N} oraz {argument.N}\")\n",
    "        elif not np.all(argument.W == self.W):\n",
    "            raise ValueError(\n",
    "                f\"Różne wielomiany w pierścieniu ilorazowym: {self.polynomial_to_str(self.W)} oraz {self.polynomial_to_str(argument.W)}\"\n",
    "            )\n",
    "\n",
    "        return argument\n",
    "\n",
    "    def polynomial_to_str(self, poly):\n",
    "        string = \"\"\n",
    "        power = len(poly) - 1\n",
    "\n",
    "        for i in range(len(poly)):\n",
    "            coef = poly[i]\n",
    "            \n",
    "            if coef != 0:\n",
    "                if i > 0: string += \" + \"\n",
    "                if power - i > 1: string += f\"{coef}x^{power - i}\" if coef != 1 else f\"x^{power - i}\"\n",
    "                elif power - i == 1: string += f\"{coef}x\" if coef != 1 else \"x\"\n",
    "                else: string += f\"{coef}\"\n",
    "\n",
    "        return string\n",
    "\n",
    "    def __add__(self, other):\n",
    "        other = self.check_argument(other)\n",
    "        add_coeffs = np.polyadd(self.r, other.r)\n",
    "        return ZnW(self.N, self.W, add_coeffs)\n",
    "\n",
    "    def __radd__(self, other):\n",
    "        return self + other\n",
    "\n",
    "    def __mul__(self, other):\n",
    "        other = self.check_argument(other)\n",
    "        mul_coeffs = np.polymul(self.r, other.r)\n",
    "        return ZnW(self.N, self.W, mul_coeffs)\n",
    "\n",
    "    def __rmul__(self, other):\n",
    "        return self * other\n",
    "\n",
    "    def __str__(self):\n",
    "        return self.__repr__()\n",
    "\n",
    "    def __repr__(self):\n",
    "        return self.polynomial_to_str(self.r)"
   ]
  },
  {
   "cell_type": "markdown",
   "id": "942ced9f-92f7-40dd-96ec-91aa267023a7",
   "metadata": {},
   "source": [
    "Przyjmuję konwencję: współczynniki podaję w tablicy NumPy'owej (`np.array`) od najstarszego (stojącego przy najwyższej potędze) do najmłodszego (wyrazu wolnego)."
   ]
  },
  {
   "cell_type": "code",
   "execution_count": 22,
   "id": "19fdb77d",
   "metadata": {},
   "outputs": [
    {
     "name": "stdout",
     "output_type": "stream",
     "text": [
      "14x^3 + 10x^2\n",
      "12x^2 + 10x + 6\n",
      "x^3 + x^2 + 11x + 7\n",
      "\n",
      "14x^3 + 5x^2 + 10x + 6\n",
      "14x^3 + 9x^2 + 2x + 12\n",
      "6x^3 + 6x^2 + 15x + 8\n"
     ]
    }
   ],
   "source": [
    "# TESTY\n",
    "N = 17\n",
    "W = np.array([1, 0, 0, 0, 1])\n",
    "\n",
    "w1 = np.array([7, 0, 0, 14, 0, 0, 0])\n",
    "w2 = np.array([24, 0, -5, -7, 13])\n",
    "w3 = np.array([23, -3, 1, 35, 0, 4])\n",
    "\n",
    "wn1 = ZnW(N, W, w1)\n",
    "wn2 = ZnW(N, W, w2)\n",
    "wn3 = ZnW(N, W, w3)\n",
    "\n",
    "print(wn1)\n",
    "print(wn2)\n",
    "print(wn3)\n",
    "print()\n",
    "\n",
    "print(wn1 + wn2)\n",
    "print(wn1 * wn2)\n",
    "print(6 * wn3)"
   ]
  }
 ],
 "metadata": {
  "kernelspec": {
   "display_name": "Python 3 (ipykernel)",
   "language": "python",
   "name": "python3"
  },
  "language_info": {
   "codemirror_mode": {
    "name": "ipython",
    "version": 3
   },
   "file_extension": ".py",
   "mimetype": "text/x-python",
   "name": "python",
   "nbconvert_exporter": "python",
   "pygments_lexer": "ipython3",
   "version": "3.9.18"
  }
 },
 "nbformat": 4,
 "nbformat_minor": 5
}
