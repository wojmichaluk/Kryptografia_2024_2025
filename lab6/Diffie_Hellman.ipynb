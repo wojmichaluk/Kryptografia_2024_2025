{
 "cells": [
  {
   "cell_type": "markdown",
   "id": "552b0fe2",
   "metadata": {},
   "source": [
    "# Problem logarytmu dyskretnego\n",
    "\n",
    "Niech $(G,\\circ)$ będzie grupą z działaniem $\\circ$ i elementem neutralnym $1_G$. Wtedy dla dowolnego elementu $a\\in G$ i $k\\in\\mathbb{Z}$ definiujemy *potęgę*: $$a^k =\\left\\{\\begin{array}{cc}\n",
    "\\underbrace{a\\circ a\\circ \\ldots \\circ a}_{k}&\\text{ dla }k>0\\\\\n",
    "1_G&\\text{ dla }k=0\\\\\n",
    "\\underbrace{a^{-1}\\circ a^{-1}\\circ \\ldots \\circ a^{-1}}_{|k|}&\\text{ dla }k<0\n",
    "\\end{array}\\right.,$$\n",
    "gdzie $a^{-1}$ jest elementem odwrotnym do $a$.\n",
    "\n",
    "Dla $a,b\\in G$, $b\\neq 1_G$ *logarytmem dyskretnym* $\\log_b a$ jest każda liczba $k\\in\\mathbb{Z}$ taka, że $b^k=a$.\n",
    "\n",
    "## Logarytm dyskretny w $\\mathbb{Z}_n$\n",
    "\n",
    "W przypadku pierścienia $\\mathbb{Z}_n$ logarytmem dyskretnym $\\log_b a$ jest każda liczba $k\\in\\mathbb{Z}$ taka, że $b^k=a\\mod n$, o ile w ogóle taka liczba istnieje.\n",
    "\n",
    "Specyficzną sytuacją w teorii liczb jest, gdy $n=p$ jest liczbą pierwszą, a $q$ jest pierwiastkiem pierwotnym $\\mod p$. Wtedy:\n",
    "- potęgi $q^k\\mod p$ generują cały zbiór $[1,p-1]$, tzn. $q$ jest **generatorem** grupy multiplikatywnej rzędu $p-1$,\n",
    "- logarytm dyskretny $\\log_q a$ istnieje dla każdego niezerowego elementu $a\\in \\mathbb{Z}_p$.\n",
    "\n",
    "## Algorytm baby-step giant-step\n",
    "\n",
    "Jest to jeden z najprostszych (poza metodą naiwną) algorytmów poszukiwania logarytmu dyskretnego w grupach cyklicznych.\n",
    "\n",
    "Niech $p$ będzie liczbą pierwszą oraz niech $q$ będzie pierwiastkiem pierwotnym modulo $p$. Dla niezerowego $a\\in\\mathbb{Z}_p$ szukamy liczby $k\\in\\mathbb{Z}$ takiej, że $q^k=a\\mod p$.\n",
    "\n",
    "### Krok 1. algorytmu:\n",
    "- $m=\\lceil\\sqrt{p-1}\\rceil$,\n",
    "- tworzymy pomocniczą tablicę potęg: dla wszystkich $i\\in [0,m)$ obliczamy parę $(i,q^i)$,\n",
    "- obliczamy $r=(q^{-1})^m$.\n",
    "\n",
    "### Krok 2. algorytmu:\n",
    "- $b=a$,\n",
    "- dla wszystkich $j\\in [0,m)$:\n",
    "    - sprawdzamy, czy para $(i,b)$ jest elementem tablicy potęg dla pewnego $i$,\n",
    "    - jeżeli tak, to $k=jm+i$ i kończymy algorytm,\n",
    "    - jeżeli nie, to $b=br$ i kontynuujemy pętlę."
   ]
  },
  {
   "cell_type": "markdown",
   "id": "0a168713",
   "metadata": {},
   "source": [
    "## Zadanie 1.\n",
    "\n",
    "Zaimplementować algorytm baby-step giant-step. Przetestować dla podanych danych testujących.\n",
    "\n",
    "```Dane testujące:\n",
    "p = 7\n",
    "q = 3\n",
    "a = 4\n",
    "\n",
    "m = 3\n",
    "tablica_testowa = [1, 3, 2]\n",
    "r = 6\n",
    "k = 4 (j = 1, i = 1)\n",
    "```\n",
    "\n",
    "```\n",
    "p = 29\n",
    "q = 8\n",
    "a = 10\n",
    "\n",
    "m = 6\n",
    "tablica_testowa = [1, 8, 6, 19, 7, 27]\n",
    "r = 9\n",
    "k = 17 (j = 2, i = 5)\n",
    "```\n",
    "\n",
    "```\n",
    "p = 113\n",
    "q = 76\n",
    "a = 84\n",
    "\n",
    "m = 11\n",
    "tablica_testowa = [1, 76, 13, 84, 56, 75, 50, 71, 85, 19, 88]\n",
    "r = 70\n",
    "k = 3 (j = 0, i = 3)\n",
    "```"
   ]
  },
  {
   "cell_type": "code",
   "execution_count": 1,
   "id": "f89ea701-346d-4e6c-b275-ba686bef73cd",
   "metadata": {},
   "outputs": [],
   "source": [
    "# lekko zmodyfikowana klasa z poprzedniego laboratorium\n",
    "class Zn:\n",
    "    def __init__(self, val, N):\n",
    "        self.val = val % N\n",
    "        self.N = N\n",
    "\n",
    "    def check_argument(self, argument):\n",
    "        if not isinstance(argument, Zn):\n",
    "            if isinstance(argument, int):\n",
    "                return Zn(argument, self.N)\n",
    "            raise TypeError(f\"Argument operacji powinien być obiektem klasy Zn lub liczbą całkowitą! Otrzymano typ: {type(argument)}\")\n",
    "        elif argument.N != self.N:\n",
    "            raise ValueError(f\"Różne podstawy modularne N w argumentach: {self.N} oraz {argument.N}\")\n",
    "\n",
    "        return argument\n",
    "\n",
    "    def is_negative_power(self, argument):\n",
    "        return isinstance(argument, int) and argument < 0\n",
    "\n",
    "    def find_modular_inverse(self):\n",
    "        for i in range(1, self.N):\n",
    "            if i * self.val % self.N == 1:\n",
    "                return i\n",
    "\n",
    "        raise ZeroDivisionError(f\"{self.val} nie ma odwrotności modularnej dla podstawy modularnej {self.N}\")\n",
    "        \n",
    "    def __eq__(self, other):\n",
    "        return isinstance(other, Zn) and self.val == other.val and self.N == other.N\n",
    "    \n",
    "    def __add__(self, other):\n",
    "        other = self.check_argument(other)\n",
    "        return Zn(self.val + other.val, self.N)\n",
    "\n",
    "    def __radd__(self, other):\n",
    "        return self + other\n",
    "\n",
    "    def __sub__(self, other):\n",
    "        other = self.check_argument(other)\n",
    "        return Zn(self.val - other.val, self.N)\n",
    "\n",
    "    def __rsub__(self, other):\n",
    "        other = self.check_argument(other)\n",
    "        return other - self\n",
    "\n",
    "    def __mul__(self, other):\n",
    "        other = self.check_argument(other)\n",
    "        return Zn(self.val * other.val, self.N) \n",
    "\n",
    "    def __rmul__(self, other):\n",
    "        return self * other\n",
    "\n",
    "    def __pow__(self, other):\n",
    "        if self.is_negative_power(other):\n",
    "            power = -other\n",
    "            mod_inv = self.find_modular_inverse()\n",
    "            return Zn(mod_inv ** power, self.N)\n",
    "        else:\n",
    "            other = self.check_argument(other)\n",
    "            return Zn(self.val ** other.val, self.N)\n",
    "\n",
    "    def __rpow__(self, other):\n",
    "        other = self.check_argument(other)\n",
    "        return other ** self\n",
    "\n",
    "    def __str__(self):\n",
    "        return self.__repr__()\n",
    "    \n",
    "    def __repr__(self):\n",
    "        return str(self.val)"
   ]
  },
  {
   "cell_type": "code",
   "execution_count": 2,
   "id": "9c934933",
   "metadata": {},
   "outputs": [],
   "source": [
    "from math import ceil\n",
    "\n",
    "def baby_step(p, q):\n",
    "    q = Zn(q, p)\n",
    "    m = ceil((p - 1) ** 0.5)\n",
    "    powers = {}\n",
    "    \n",
    "    for i in range(m):\n",
    "        powers[i] = (q ** i)\n",
    "    \n",
    "    r = q ** -m\n",
    "    \n",
    "    return m, powers, r"
   ]
  },
  {
   "cell_type": "code",
   "execution_count": 3,
   "id": "53c9eb4d-c8de-4810-9412-ba9ca8b986b5",
   "metadata": {},
   "outputs": [],
   "source": [
    "def giant_step(p, a, m, powers, r):\n",
    "    a = Zn(a, p)\n",
    "    b = a\n",
    "    \n",
    "    for j in range(m):\n",
    "        if b in powers.values():\n",
    "            i = list(powers.values()).index(b)\n",
    "            return j * m + i\n",
    "        \n",
    "        b *= r"
   ]
  },
  {
   "cell_type": "markdown",
   "id": "e27049c7-6cce-49c5-931f-dc13919d170d",
   "metadata": {},
   "source": [
    "Przetestujmy działanie algorytmu dla podanych przykładów."
   ]
  },
  {
   "cell_type": "code",
   "execution_count": 4,
   "id": "dc63341c",
   "metadata": {},
   "outputs": [
    {
     "name": "stdout",
     "output_type": "stream",
     "text": [
      "m = 3, tablica_testowa = [1, 3, 2], r = 6, k = 4\n"
     ]
    }
   ],
   "source": [
    "# TEST 1\n",
    "p = 7\n",
    "q = 3\n",
    "a = 4\n",
    "\n",
    "m, powers, r = baby_step(p, q)\n",
    "k = giant_step(p, a, m, powers, r)\n",
    "\n",
    "# m = 3, tablica_testowa = [1, 3, 2], r = 6, k = 4\n",
    "print(f\"m = {m}, tablica_testowa = {list(powers.values())}, r = {r}, k = {k}\")"
   ]
  },
  {
   "cell_type": "code",
   "execution_count": 5,
   "id": "cf87b020-fa2b-4d03-bb16-cef5bc60e8af",
   "metadata": {},
   "outputs": [
    {
     "name": "stdout",
     "output_type": "stream",
     "text": [
      "m = 6, tablica_testowa = [1, 8, 6, 19, 7, 27], r = 9, k = 17\n"
     ]
    }
   ],
   "source": [
    "# TEST 2\n",
    "p = 29\n",
    "q = 8\n",
    "a = 10\n",
    "\n",
    "m, powers, r = baby_step(p, q)\n",
    "k = giant_step(p, a, m, powers, r)\n",
    "\n",
    "# m = 6, tablica_testowa = [1, 8, 6, 19, 7, 27], r = 9, k = 17\n",
    "print(f\"m = {m}, tablica_testowa = {list(powers.values())}, r = {r}, k = {k}\")"
   ]
  },
  {
   "cell_type": "code",
   "execution_count": 6,
   "id": "b939e607-b73c-4e4f-8533-c6c2d17a2249",
   "metadata": {},
   "outputs": [
    {
     "name": "stdout",
     "output_type": "stream",
     "text": [
      "m = 11, tablica_testowa = [1, 76, 13, 84, 56, 75, 50, 71, 85, 19, 88], r = 70, k = 3\n"
     ]
    }
   ],
   "source": [
    "# TEST 3\n",
    "p = 113\n",
    "q = 76\n",
    "a = 84\n",
    "\n",
    "m, powers, r = baby_step(p, q)\n",
    "k = giant_step(p, a, m, powers, r)\n",
    "\n",
    "# m = 11, tablica_testowa = [1, 76, 13, 84, 56, 75, 50, 71, 85, 19, 88], r = 70, k = 3\n",
    "print(f\"m = {m}, tablica_testowa = {list(powers.values())}, r = {r}, k = {k}\")"
   ]
  },
  {
   "cell_type": "markdown",
   "id": "812b4993",
   "metadata": {},
   "source": [
    "# Wymiana klucza typu Diffie-Hellman\n",
    "\n",
    "Alice i Bob uzgadniają klucz publiczny, będący liczbą pierwszą $p$ oraz $q$ - pierwiastkiem pierwotnym mod $p$.\n",
    "- sekret Alice: liczba całkowita $n\\in \\mathbb{Z}_p\\setminus\\{0\\}$,\n",
    "- sekret Boba: liczba całkowita $m\\in \\mathbb{Z}_p\\setminus\\{0\\}$,\n",
    "- Alice generuje $x=q^n\\mod p$ i wysyła do Boba,\n",
    "- Bob generuje $y=q^m\\mod p$ i wysyła Alice,\n",
    "- Alice oblicza klucz $k=y^n\\mod p$,\n",
    "- Bob oblicza klucz $k=x^m\\mod p$.\n"
   ]
  },
  {
   "cell_type": "markdown",
   "id": "076f56f9",
   "metadata": {},
   "source": [
    "## Zadanie 2.\n",
    "\n",
    "Zaimplementuj powyższy algorytm wymiany klucza. Dobierz parametry $p$ i $q$ tak, żeby znając $x$, $y$, $p$ i $q$ nie dało się odtworzyć sekretów algorytmem z zadania 1."
   ]
  },
  {
   "cell_type": "code",
   "execution_count": 7,
   "id": "0310077f",
   "metadata": {},
   "outputs": [],
   "source": [
    "def dh_key_exchange(p, q, n, m):\n",
    "    x = pow(q, n, p)\n",
    "    y = pow(q, m, p)\n",
    "    \n",
    "    kA = pow(y, n, p)\n",
    "    kB = pow(x, m, p)\n",
    "    \n",
    "    return kA, kB, x, y"
   ]
  },
  {
   "cell_type": "markdown",
   "id": "e261f96c-665f-4971-8b92-50fb76dd4a43",
   "metadata": {},
   "source": [
    "Sekrety Alice i Boba powinny być **losowane** ze zbioru $\\{1, 2, \\dots p-1\\}$."
   ]
  },
  {
   "cell_type": "code",
   "execution_count": 8,
   "id": "0b87e2c1-3465-442b-b257-a9992de7618f",
   "metadata": {},
   "outputs": [],
   "source": [
    "from random import randint"
   ]
  },
  {
   "cell_type": "markdown",
   "id": "309a7f6b-b35d-4cd3-9bfb-a20ef00261ea",
   "metadata": {},
   "source": [
    "Sprawdźmy, czy algorytm działa prawidłowo, tzn. czy klucze są takie same oraz czy na podstawie $x$ i $y$ (oraz liczb $p$ i $q$) zostaną poprawnie odczytane *sekrety*."
   ]
  },
  {
   "cell_type": "code",
   "execution_count": 9,
   "id": "14a18ac8",
   "metadata": {},
   "outputs": [
    {
     "name": "stdout",
     "output_type": "stream",
     "text": [
      "Sekret Alice = 3, sekret Boba = 20\n",
      "Klucz Alice = 7, klucz Boba = 7, x = 19, y = 16\n",
      "Klucze się zgadzają!\n"
     ]
    }
   ],
   "source": [
    "# TEST 1\n",
    "p = 29\n",
    "q = 8\n",
    "n = randint(1, p) # sekret Alice\n",
    "m = randint(1, p) # sekret Boba\n",
    "\n",
    "# chcemy później porównać \"złamane\" wartości\n",
    "print(f\"Sekret Alice = {n}, sekret Boba = {m}\")\n",
    "\n",
    "kA, kB, x, y = dh_key_exchange(p, q, n, m)\n",
    "print(f\"Klucz Alice = {kA}, klucz Boba = {kB}, x = {x}, y = {y}\")\n",
    "\n",
    "assert kA == kB\n",
    "print(\"Klucze się zgadzają!\")"
   ]
  },
  {
   "cell_type": "markdown",
   "id": "8dc0aea1-f50b-4c90-b983-f4c17d921f9d",
   "metadata": {},
   "source": [
    "Sprawdźmy, czy dla tych danych uda się odzyskać tajne wartości $n$ i $m$."
   ]
  },
  {
   "cell_type": "code",
   "execution_count": 10,
   "id": "66d983dc-c056-41c5-a692-e702c5aef96c",
   "metadata": {},
   "outputs": [],
   "source": [
    "# funkcja bazująca na rozwiązaniu zadania 1., obliczająca algorytm dyskretny\n",
    "def discrete_logarithm(p, q, a):\n",
    "    m, powers, r = baby_step(p, q)\n",
    "    k = giant_step(p, a, m, powers, r)\n",
    "    return k"
   ]
  },
  {
   "cell_type": "code",
   "execution_count": 11,
   "id": "b08da4aa-406d-4a20-89b4-9e2de2c3f065",
   "metadata": {},
   "outputs": [
    {
     "name": "stdout",
     "output_type": "stream",
     "text": [
      "Złamany sekret Alice = 3\n",
      "Złamany sekret Boba = 20\n"
     ]
    }
   ],
   "source": [
    "# próba \"złamania\" algorytmu, tzn. odczytania sekretów\n",
    "print(f\"Złamany sekret Alice = {discrete_logarithm(p, q, x)}\")\n",
    "print(f\"Złamany sekret Boba = {discrete_logarithm(p, q, y)}\")"
   ]
  },
  {
   "cell_type": "markdown",
   "id": "b72333f9-99ef-444b-ad86-fe62a7774afb",
   "metadata": {},
   "source": [
    "Jak widać, sekrety są łamane i to bardzo szybko (bo sprawdziliśmy małe liczby). Spróbujmy zatem dla większych wartości $p$ i $q$. Uznajemy, że jeśli czas obliczeń przekroczy 10 minut, to algorytm nie został złamany.\n",
    "\n",
    "---\n",
    "\n",
    "Do wygenerowania liczb pierwszych korzystam z [tej strony](https://bigprimes.org/).\n",
    "\n",
    "Z kolei do sprawdzenia pierwiastków pierwotnych korzystam z [widgetu Wolfram Alpha](https://www.wolframalpha.com/widgets/view.jsp?id=ef51422db7db201ebc03c8800f41ba99), który umożliwia takie obliczenia."
   ]
  },
  {
   "cell_type": "code",
   "execution_count": 12,
   "id": "299c83fe-4934-4112-9bed-de1d45687428",
   "metadata": {},
   "outputs": [
    {
     "name": "stdout",
     "output_type": "stream",
     "text": [
      "Sekret Alice = 720172183, sekret Boba = 336206692\n",
      "Klucz Alice = 2431131538, klucz Boba = 2431131538, x = 1927140212, y = 3863344769\n",
      "Klucze się zgadzają!\n",
      "Złamany sekret Alice = 720172183\n",
      "Złamany sekret Boba = 336206692\n"
     ]
    }
   ],
   "source": [
    "# TEST 2\n",
    "p = 6226665521 # 10-cyfrowa liczba pierwsza\n",
    "q = 3 # pierwiastek pierwotny (najmniejszy)\n",
    "n = randint(1, p)\n",
    "m = randint(1, p)\n",
    "\n",
    "print(f\"Sekret Alice = {n}, sekret Boba = {m}\")\n",
    "\n",
    "kA, kB, x, y = dh_key_exchange(p, q, n, m)\n",
    "print(f\"Klucz Alice = {kA}, klucz Boba = {kB}, x = {x}, y = {y}\")\n",
    "\n",
    "assert kA == kB\n",
    "print(\"Klucze się zgadzają!\")\n",
    "\n",
    "print(f\"Złamany sekret Alice = {discrete_logarithm(p, q, x)}\")\n",
    "print(f\"Złamany sekret Boba = {discrete_logarithm(p, q, y)}\")"
   ]
  },
  {
   "cell_type": "markdown",
   "id": "3de3f01a-299e-479b-acec-944d867e62ff",
   "metadata": {},
   "source": [
    "Dla 10-cyfrowej liczby pierwszej złamanie klucza zajęło około 10 minut (ale na jeden klucz - łącznie 20 minut). Wydaje się to dość długo, możliwe że wynika ze sposobu implementacji algorytmu z zadania 1.\n",
    "\n",
    "Aby się upewnić, sprawdźmy jeszcze działanie dla 20-cyfrowej liczby pierwszej."
   ]
  },
  {
   "cell_type": "code",
   "execution_count": null,
   "id": "05cfdd07-e6c1-4a2d-8f3e-cf77e9af0938",
   "metadata": {},
   "outputs": [],
   "source": [
    "# TEST 3\n",
    "p = 92241790942553929493 # 20-cyfrowa liczba pierwsza\n",
    "q = 2 # najmniejszy pierwiastek pierwotny\n",
    "n = randint(1, p)\n",
    "m = randint(1, p)\n",
    "\n",
    "print(f\"Sekret Alice = {n}, sekret Boba = {m}\")\n",
    "\n",
    "kA, kB, x, y = dh_key_exchange(p, q, n, m)\n",
    "print(f\"Klucz Alice = {kA}, klucz Boba = {kB}, x = {x}, y = {y}\")\n",
    "\n",
    "assert kA == kB\n",
    "print(\"Klucze się zgadzają!\")\n",
    "\n",
    "print(f\"Złamany sekret Alice = {discrete_logarithm(p, q, x)}\")\n",
    "print(f\"Złamany sekret Boba = {discrete_logarithm(p, q, y)}\")"
   ]
  },
  {
   "cell_type": "markdown",
   "id": "b7ddc0c0-9a23-4bfa-bdea-120e2c9415a6",
   "metadata": {},
   "source": [
    "W tym przypadku po odczekaniu 10 minut wciąż obliczenia się nie zakończyły (nawet dla sekretu Alice), dlatego je przerwałem. Można uznać, że algorytm nie został złamany."
   ]
  }
 ],
 "metadata": {
  "kernelspec": {
   "display_name": "Python 3 (ipykernel)",
   "language": "python",
   "name": "python3"
  },
  "language_info": {
   "codemirror_mode": {
    "name": "ipython",
    "version": 3
   },
   "file_extension": ".py",
   "mimetype": "text/x-python",
   "name": "python",
   "nbconvert_exporter": "python",
   "pygments_lexer": "ipython3",
   "version": "3.9.18"
  }
 },
 "nbformat": 4,
 "nbformat_minor": 5
}
