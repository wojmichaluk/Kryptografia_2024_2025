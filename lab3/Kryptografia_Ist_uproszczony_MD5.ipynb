{
 "cells": [
  {
   "cell_type": "markdown",
   "metadata": {
    "id": "RiM0IfE5vcKE"
   },
   "source": [
    "# Funkcje skrótu\n",
    "\n",
    "## Wstęp\n",
    "\n",
    "W tym laboratorium zapoznamy się z algorytmem funkcji skrótu MD5, czyli jednym z klasycznych przykładów funkcji mieszających (hashujących), które były powszechnie stosowane w kryptografii, ochronie danych oraz weryfikacji integralności. Funkcja MD5 generuje 128-bitowy skrót (hash) z dowolnego wejścia tekstowego, zapewniając, że wynik jest zawsze tej samej długości, niezależnie od wielkości danych wejściowych.\n",
    "\n",
    "Funkcje skrótu znajdują szerokie zastosowanie w informatyce, m.in.:\n",
    "- przy weryfikacji integralności danych,\n",
    "- w przechowywaniu haseł (choć obecnie MD5 nie jest zalecany do tego celu z powodu problemów z bezpieczeństwem),\n",
    "- w algorytmach wykrywających duplikaty, takich jak te wykorzystywane w systemach zarządzania danymi.\n",
    "\n",
    "Algorytm MD5 działa na zasadzie iteracyjnego przetwarzania danych wejściowych podzielonych na 512-bitowe bloki, stosując złożone operacje logiczne i przesunięcia bitowe. Pomimo swojej popularności, MD5 obecnie uznawany jest za podatny na ataki kolizyjne, co oznacza, że istnieją efektywne metody pozwalające znaleźć dwa różne wejścia dające ten sam wynik hashowania.\n",
    "\n",
    "## Cel laboratorium\n",
    "\n",
    "Celem tego laboratorium jest:\n",
    "1. Poznanie szczegółów teoretycznych algorytmu MD5.\n",
    "2. Implementacja uproszczonej wersji funkcji MD5 w Pythonie i analiza jej działania.\n",
    "3. Próba złamania MD5.\n",
    "\n",
    "## Kluczowe pojęcia\n",
    "\n",
    "- **Funkcja skrótu**: Funkcja przekształcająca dowolnie długi ciąg danych wejściowych w wynik o ustalonej długości (skrót). Funkcja skrótu jest niemożliwa do odwrócenia i powinna być odporna na kolizje.\n",
    "- **Kolizja**: Przypadek, w którym dwa różne zestawy danych wejściowych generują ten sam skrót, co stanowi problem dla funkcji skrótu stosowanych w kryptografii.\n",
    "- **Pseudolosowe mieszanie**: Proces generowania wartości haszujących oparty na bitowych operacjach logicznych, które wprowadzają złożoność i nieprzewidywalność.\n",
    "\n",
    "> **Notatka:** Chociaż MD5 jest łatwy do zrozumienia i implementacji, nie jest bezpieczny do ochrony haseł ani przechowywania danych wrażliwych. Dlatego będziemy go analizować tylko w celach edukacyjnych.\n"
   ]
  },
  {
   "cell_type": "markdown",
   "metadata": {
    "id": "Ka8lTCw0ygjD"
   },
   "source": [
    "# Algorytm MD5\n",
    "\n",
    "## Krok 1 - inicjalizacja stałych"
   ]
  },
  {
   "cell_type": "code",
   "execution_count": 1,
   "metadata": {
    "id": "5as614WsyxaC"
   },
   "outputs": [],
   "source": [
    "import math\n",
    "# Stałe inicjalizacyjne dla MD5\n",
    "A0, B0, C0, D0 = 0x67452301, 0xEFCDAB89, 0x98BADCFE, 0x10325476\n",
    "\n",
    "# Stałe przesunięcia bitowe dla każdej rundy\n",
    "shift_amounts = [\n",
    "    7, 12, 17, 22,  7, 12, 17, 22,  7, 12, 17, 22,  7, 12, 17, 22,\n",
    "    5,  9, 14, 20,  5,  9, 14, 20,  5,  9, 14, 20,  5,  9, 14, 20,\n",
    "    4, 11, 16, 23,  4, 11, 16, 23,  4, 11, 16, 23,  4, 11, 16, 23,\n",
    "    6, 10, 15, 21,  6, 10, 15, 21,  6, 10, 15, 21,  6, 10, 15, 21\n",
    "]\n",
    "\n",
    "# Tablica stałych sinusowych T\n",
    "T = [int(4294967296 * abs(math.sin(i + 1))) & 0xFFFFFFFF for i in range(64)]"
   ]
  },
  {
   "cell_type": "markdown",
   "metadata": {
    "id": "VEH7Q9elzMtS"
   },
   "source": [
    "## Krok 2 - funkcje pomocnicze"
   ]
  },
  {
   "cell_type": "code",
   "execution_count": 2,
   "metadata": {
    "id": "efu3X9TqzQEk"
   },
   "outputs": [],
   "source": [
    "# Funkcje pomocnicze\n",
    "def left_rotate(x, amount):\n",
    "    # Napisz funkcję rotującą binarnie w lewo słowo 32 bitowe\n",
    "    return (x << amount | x >> (32 - amount)) & 0xFFFFFFFF\n",
    "\n",
    "# Definicje funkcji F, G, H, I używanych w algorytmie\n",
    "# Zwróć (x AND y) OR (NOT x AND z)\n",
    "def F(x, y, z): \n",
    "    return (x & y) | (~x & z)\n",
    "\n",
    "# Zwróć (x AND z) OR (y AND NOT z)\n",
    "def G(x, y, z):\n",
    "    return (x & z) | (y & ~z)\n",
    "\n",
    "# Zwróć x XOR y XOR z\n",
    "def H(x, y, z): \n",
    "    return x ^ y ^ z\n",
    "\n",
    "# Zwróć y XOR (x OR NOT z)\n",
    "def I(x, y, z):\n",
    "    return y ^ (x | ~z)"
   ]
  },
  {
   "cell_type": "markdown",
   "metadata": {
    "id": "v95qO4rVzYLv"
   },
   "source": [
    "## Krok 3 - padding"
   ]
  },
  {
   "cell_type": "code",
   "execution_count": 3,
   "metadata": {
    "id": "V1FNjXrIzb3h"
   },
   "outputs": [],
   "source": [
    "def pad_message(message):\n",
    "    messageBytes = bytearray(message, 'utf-8')  # Konwertujemy wiadomość na bajty\n",
    "    \n",
    "    # Oblicz liczbę bitów oryginalnej wiadomości i przypisz do orig_len_in_bits\n",
    "    orig_len_in_bits = len(messageBytes) * 8\n",
    "    \n",
    "    # Dołącz do messageBytes wartość 0x80\n",
    "    messageBytes.append(0x80)\n",
    "    \n",
    "    # Dodawaj bajty 0x00 do messageBytes, dopóki długość messageBytes modulo 64 jest różne od 56\n",
    "    while len(messageBytes) % 64 != 56:\n",
    "        messageBytes.append(0x00)\n",
    "    \n",
    "    # Dołącz do tablicy messageBytes długość bitową orig_len_in_bits na 8 bajtach i w systemie Little Endian. Pomocna będzie metoda `to_bytes`.\n",
    "    messageBytes.extend(orig_len_in_bits.to_bytes(8, 'little'))\n",
    "    \n",
    "    return messageBytes"
   ]
  },
  {
   "cell_type": "markdown",
   "metadata": {
    "id": "F5ppmtar1rBM"
   },
   "source": [
    "## Krok 4 - główna pętla"
   ]
  },
  {
   "cell_type": "code",
   "execution_count": 4,
   "metadata": {
    "colab": {
     "base_uri": "https://localhost:8080/"
    },
    "id": "WiCpUBD910LO",
    "outputId": "0f2e19df-4dc0-4e1e-ffb7-fd8c2e176a90"
   },
   "outputs": [
    {
     "name": "stdout",
     "output_type": "stream",
     "text": [
      "0cc175b9c0f1b6a831c399e269772661\n"
     ]
    }
   ],
   "source": [
    "def MD5(messageText):\n",
    "    # wykonaj padding wiadomości\n",
    "    message = pad_message(messageText)\n",
    "    \n",
    "    A, B, C, D = A0, B0, C0, D0\n",
    "    for i in range(0, len(message), 64):\n",
    "        # Blok 512-bitowy podzielony na szesnaście 32-bitowych słów:\n",
    "        # Pobierz 16 razy po 4 bajty (po kolei), przekonwertuj każdą czwórkę na int w systemie Little Endian. \n",
    "        # M powinno w każdej iteracji mieć 16 liczb typu int. Pomocna może być metoda: `int.from_bytes`\n",
    "        M = list()\n",
    "        for j in range(i, i + 64, 4):\n",
    "            M.append(int.from_bytes(message[j:j+4], 'little'))\n",
    "\n",
    "        # Kopie bieżących wartości rejestrów\n",
    "        AA, BB, CC, DD = A, B, C, D\n",
    "\n",
    "        # 64 kroki, 4 rundy\n",
    "        for j in range(64):\n",
    "            if 0 <= j <= 15:\n",
    "                # Przypisz do f = F(B, C, D), a do g przypisz j\n",
    "                f = F(B, C, D)\n",
    "                g = j\n",
    "            elif 16 <= j <= 31:\n",
    "                # Przypisz do f = G(B, C, D), a do g przypisz 5 razy j plus 1 modulo 16.\n",
    "                f = G(B, C, D)\n",
    "                g = (5 * j + 1) % 16\n",
    "            elif 32 <= j <= 47:\n",
    "                # Przypisz do f = H(B, C, D), a do g przypisz 3 razy j plus 5 modulo 16.\n",
    "                f = H(B, C, D)\n",
    "                g = (3 * j + 5) % 16\n",
    "            elif 48 <= j <= 63:\n",
    "                # Przypisz do f = I(B, C, D), a do g przypisz 7 razy j modulo 16.\n",
    "                f = I(B, C, D)\n",
    "                g = (7 * j) % 16\n",
    "\n",
    "            # Obliczenia na rejestrach:\n",
    "            # Podstaw do temp wartość D\n",
    "            temp = D\n",
    "            \n",
    "            # Podstaw do D wartość C\n",
    "            # Podstaw do C wartość B\n",
    "            D = C\n",
    "            C = B\n",
    "            \n",
    "            # Dodaj do B wartość A + f + M[g] + T[j] zrotowaną binarnie w lewo shift_amounts[j] razy\n",
    "            B = (B + left_rotate((A + f + M[g] + T[j]) & 0xFFFFFFFF, shift_amounts[j])) & 0xFFFFFFFF\n",
    "            \n",
    "            # Podstaw do A wartość temp\n",
    "            A = temp\n",
    "\n",
    "        # Dodaj do A wartość AA\n",
    "        # Dodaj do B wartość BB\n",
    "        # Dodaj do C wartość CC\n",
    "        # Dodaj do D wartość DD\n",
    "        A = (A + AA) & 0xFFFFFFFF\n",
    "        B = (B + BB) & 0xFFFFFFFF\n",
    "        C = (C + CC) & 0xFFFFFFFF\n",
    "        D = (D + DD) & 0xFFFFFFFF\n",
    "\n",
    "    # Konwersja końcowa do wartości MD5 (128-bitowy hash):\n",
    "    # Skonkatenuj binarnie A, B, C, D w takiej kolejności, tzn. 4 najmniej znaczące bajty to A, a 4 najbardziej znaczące to D.\n",
    "    concat = (D << 96) | (C << 64) | (B << 32) | A\n",
    "    \n",
    "    # Przekonwertuj konkatenację do bajtów w little endian, następnie do hex i zwróć. To jest Twój skrót.\n",
    "    return concat.to_bytes(16, 'little').hex()\n",
    "\n",
    "# 0cc175b9c0f1b6a831c399e269772661\n",
    "print(MD5(\"a\"))"
   ]
  },
  {
   "cell_type": "markdown",
   "metadata": {
    "id": "oWhx_ttrY5l4"
   },
   "source": [
    "## Podsumowanie\n",
    "\n",
    "### Inicjalizacja zmiennych\n",
    "MD5 rozpoczyna pracę od ustawienia czterech zmiennych (A, B, C, D), które są zainicjalizowane określonymi, stałymi wartościami. Te zmienne tworzą 128-bitowy rejestr, w którym przechowywane są aktualne wartości stanu algorytmu. To ustawienie początkowe jest zawsze takie samo i zapewnia początkowy punkt odniesienia dla obliczeń.\n",
    "\n",
    "### Cztery rundy i funkcje mieszające (F, G, H, I)\n",
    "MD5 wykonuje cztery rundy operacji, podczas których stosowane są różne funkcje mieszające (F, G, H, I) oraz operacje przesunięcia i sumowania. Każda runda przechodzi przez dane z wykorzystaniem operacji logicznych, takich jak AND, OR i XOR, aby zmieszać dane w nietrywialny sposób.\n",
    "\n",
    "- Funkcje F, G, H, I stosują różne formy operacji bitowych, aby przemieszać bity w każdym kroku w sposób nieodwracalny. Zastosowanie tych operacji zapewnia, że niewielka zmiana w danych wejściowych prowadzi do znacznej zmiany w końcowym skrócie.\n",
    "- Przesunięcia bitowe i stałe sinusoidalne (T) dodawane w każdej rundzie pomagają wprowadzić dodatkową losowość i zwiększają odporność na kolizje.\n",
    "\n",
    "### Padding (dopełnienie) i dodanie długości\n",
    "Dane wejściowe są uzupełniane (padding) do długości wielokrotności 512 bitów, co zapewnia, że blok danych ma odpowiedni rozmiar do przetwarzania. Dopełnienie polega na dodaniu bitu 1, a następnie odpowiedniej liczby zer oraz zapisaniu oryginalnej długości wiadomości. Ten krok zapewnia, że nawet jeśli dane wejściowe mają nietypową długość, algorytm może je przetworzyć.\n",
    "\n",
    "### Dzielenie na bloki 512-bitowe i 32-bitowe słowa\n",
    "Uzupełnione dane są dzielone na bloki po 512 bitów, a następnie każdy blok jest dzielony na szesnaście 32-bitowych słów. MD5 przetwarza dane w blokach, co umożliwia stosowanie iteracyjnych operacji bez względu na długość wiadomości. Każdy blok jest przetwarzany osobno, co pozwala na efektywną obróbkę dużych danych.\n",
    "\n",
    "### Aktualizacja rejestrów\n",
    "Po przetworzeniu każdego bloku 512-bitowego wartości rejestrów A, B, C i D są sumowane z ich stanem początkowym, co oznacza, że każdy blok wpływa na kolejne przetwarzane bloki. Ta operacja sprawia, że każda część wiadomości przyczynia się do ostatecznego wyniku.\n",
    "\n",
    "### Finalizacja (Konstrukcja skrótu)\n",
    "Po przetworzeniu wszystkich bloków cztery 32-bitowe wartości (A, B, C, D) są łączone, tworząc 128-bitowy skrót. Wynik jest wyrażany jako liczba szesnastkowa i stanowi końcowy skrót MD5, który identyfikuje dane wejściowe."
   ]
  },
  {
   "cell_type": "markdown",
   "metadata": {
    "id": "TlnABtRFUTgv"
   },
   "source": [
    "Wyniki możesz porównać z [tym](https://www.md5hashgenerator.com/) kalkulatorem."
   ]
  },
  {
   "cell_type": "code",
   "execution_count": 5,
   "metadata": {
    "id": "qTc598vuIU2F"
   },
   "outputs": [
    {
     "name": "stdout",
     "output_type": "stream",
     "text": [
      "Jest szansa, że działa!\n"
     ]
    }
   ],
   "source": [
    "# przetestujmy parę przypadków\n",
    "testString = \"Wojtek\"\n",
    "MD5hash = MD5(testString)\n",
    "assert MD5hash == \"8b8609c381cdbc6d6ff61c383b0adab0\"\n",
    "\n",
    "testString = \"Szedl Sasza szosa sucha\"\n",
    "MD5hash = MD5(testString)\n",
    "assert MD5hash == \"f461e52b114047b06a9c883c0ee411f2\"\n",
    "\n",
    "testString = \"Stol z powylamywanymi nogami\"\n",
    "MD5hash = MD5(testString)\n",
    "assert MD5hash == \"bfc6738b7068e4aee20fe7ec04cfcf25\"\n",
    "\n",
    "print(\"Jest szansa, że działa!\")"
   ]
  }
 ],
 "metadata": {
  "colab": {
   "provenance": []
  },
  "kernelspec": {
   "display_name": "Python 3 (ipykernel)",
   "language": "python",
   "name": "python3"
  },
  "language_info": {
   "codemirror_mode": {
    "name": "ipython",
    "version": 3
   },
   "file_extension": ".py",
   "mimetype": "text/x-python",
   "name": "python",
   "nbconvert_exporter": "python",
   "pygments_lexer": "ipython3",
   "version": "3.9.18"
  }
 },
 "nbformat": 4,
 "nbformat_minor": 4
}
