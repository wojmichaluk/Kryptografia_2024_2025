{
 "cells": [
  {
   "cell_type": "markdown",
   "id": "4680a3d8",
   "metadata": {},
   "source": [
    "# Mini Projekt - Baby Kyber"
   ]
  },
  {
   "cell_type": "markdown",
   "id": "c444d5d3",
   "metadata": {},
   "source": [
    "## Pierścień $\\mathbb{Z}_{17}[X]/(X^4+1)$"
   ]
  },
  {
   "cell_type": "code",
   "execution_count": 1,
   "id": "1279a018",
   "metadata": {},
   "outputs": [],
   "source": [
    "# skopiuj pierścień ilorazowy wielomianów z pierwszych zajęć\n",
    "# klasa z lekkimi modyfikacjami\n",
    "import numpy as np\n",
    "\n",
    "class ZnW:\n",
    "    def __init__(self, N, W, p):\n",
    "        self.N = N\n",
    "        self.W = W\n",
    "        self.r = self.calculate_polynomial(p)\n",
    "\n",
    "    def calculate_polynomial(self, p):\n",
    "        if not isinstance(p, np.ndarray):\n",
    "            if isinstance(p, int):\n",
    "                p = np.array([p])\n",
    "            elif isinstance(p, list):\n",
    "                p = np.array(p)\n",
    "            else:\n",
    "                raise TypeError(f\"Argument powinien być obiektem klasy numpy.ndarray, listą lub liczbą całkowitą! Otrzymano typ: {type(p)}\")\n",
    "\n",
    "        _, remainder = np.polydiv(p, self.W)\n",
    "        remainder_mod = []\n",
    "        \n",
    "        for coef in remainder:\n",
    "            r = Zn(int(coef), self.N)\n",
    "            remainder_mod.append(r.val)\n",
    "            \n",
    "        return np.array(remainder_mod)\n",
    "\n",
    "    def check_argument(self, argument):\n",
    "        if not isinstance(argument, ZnW):\n",
    "            return ZnW(self.N, self.W, argument)\n",
    "        elif argument.N != self.N:\n",
    "            raise ValueError(f\"Różne podstawy modularne N w argumentach: {self.N} oraz {argument.N}\")\n",
    "        elif not np.all(argument.W == self.W):\n",
    "            raise ValueError(\n",
    "                f\"Różne wielomiany w pierścieniu ilorazowym: {self.polynomial_to_str(self.W)} oraz {self.polynomial_to_str(argument.W)}\"\n",
    "            )\n",
    "\n",
    "        return argument\n",
    "\n",
    "    def polynomial_to_str(self, poly):\n",
    "        string = \"\"\n",
    "        power = len(poly) - 1\n",
    "\n",
    "        for i in range(len(poly)):\n",
    "            coef = poly[i]\n",
    "            \n",
    "            if coef != 0:\n",
    "                if i > 0: string += \" + \"\n",
    "                if power - i > 1: string += f\"{coef}x^{power - i}\" if coef != 1 else f\"x^{power - i}\"\n",
    "                elif power - i == 1: string += f\"{coef}x\" if coef != 1 else \"x\"\n",
    "                else: string += f\"{coef}\"\n",
    "\n",
    "        return string\n",
    "\n",
    "    def __add__(self, other):\n",
    "        other = self.check_argument(other)\n",
    "        add_coeffs = np.polyadd(self.r, other.r)\n",
    "        return ZnW(self.N, self.W, add_coeffs)\n",
    "\n",
    "    def __radd__(self, other):\n",
    "        return self + other\n",
    "    \n",
    "    def __sub__(self, other):\n",
    "        other = self.check_argument(other)\n",
    "        sub_coeffs = np.polysub(self.r, other.r)\n",
    "        return ZnW(self.N, self.W, sub_coeffs)\n",
    "\n",
    "    def __mul__(self, other):\n",
    "        other = self.check_argument(other)\n",
    "        mul_coeffs = np.polymul(self.r, other.r)\n",
    "        return ZnW(self.N, self.W, mul_coeffs)\n",
    "\n",
    "    def __rmul__(self, other):\n",
    "        return self * other\n",
    "\n",
    "    def __str__(self):\n",
    "        return self.__repr__()\n",
    "\n",
    "    def __repr__(self):\n",
    "        return self.polynomial_to_str(self.r)"
   ]
  },
  {
   "cell_type": "code",
   "execution_count": 2,
   "id": "43d113f5-6c74-4114-a2d5-678e08d30c43",
   "metadata": {},
   "outputs": [],
   "source": [
    "# potrzebuję też klasy pierścienia reszt modulo n - korzysta z niej powyższa klasa\n",
    "class Zn:\n",
    "    def __init__(self, val, N):\n",
    "        self.val = val % N\n",
    "        self.N = N\n",
    "\n",
    "    def check_argument(self, argument):\n",
    "        if not isinstance(argument, Zn):\n",
    "            if isinstance(argument, int):\n",
    "                return Zn(argument, self.N)\n",
    "            raise TypeError(f\"Argument operacji powinien być obiektem klasy Zn lub liczbą całkowitą! Otrzymano typ: {type(argument)}\")\n",
    "        elif argument.N != self.N:\n",
    "            raise ValueError(f\"Różne podstawy modularne N w argumentach: {self.N} oraz {argument.N}\")\n",
    "\n",
    "        return argument\n",
    "\n",
    "    def is_negative_power(self, argument):\n",
    "        return isinstance(argument, int) and argument < 0\n",
    "\n",
    "    def find_modular_inverse(self):\n",
    "        for i in range(1, self.N):\n",
    "            if i * self.val % self.N == 1:\n",
    "                return i\n",
    "\n",
    "        raise ZeroDivisionError(f\"{self.val} nie ma odwrotności modularnej dla podstawy modularnej {self.N}\")\n",
    "        \n",
    "    def __eq__(self, other):\n",
    "        return isinstance(other, Zn) and self.val == other.val and self.N == other.N\n",
    "    \n",
    "    def __add__(self, other):\n",
    "        other = self.check_argument(other)\n",
    "        return Zn(self.val + other.val, self.N)\n",
    "\n",
    "    def __radd__(self, other):\n",
    "        return self + other\n",
    "\n",
    "    def __sub__(self, other):\n",
    "        other = self.check_argument(other)\n",
    "        return Zn(self.val - other.val, self.N)\n",
    "\n",
    "    def __rsub__(self, other):\n",
    "        other = self.check_argument(other)\n",
    "        return other - self\n",
    "\n",
    "    def __mul__(self, other):\n",
    "        other = self.check_argument(other)\n",
    "        return Zn(self.val * other.val, self.N) \n",
    "\n",
    "    def __rmul__(self, other):\n",
    "        return self * other\n",
    "\n",
    "    def __pow__(self, other):\n",
    "        if self.is_negative_power(other):\n",
    "            power = -other\n",
    "            mod_inv = self.find_modular_inverse()\n",
    "            return Zn(mod_inv ** power, self.N)\n",
    "        else:\n",
    "            other = self.check_argument(other)\n",
    "            return Zn(self.val ** other.val, self.N)\n",
    "\n",
    "    def __rpow__(self, other):\n",
    "        other = self.check_argument(other)\n",
    "        return other ** self\n",
    "\n",
    "    def __str__(self):\n",
    "        return self.__repr__()\n",
    "    \n",
    "    def __repr__(self):\n",
    "        return str(self.val)"
   ]
  },
  {
   "cell_type": "markdown",
   "id": "ffc5b429",
   "metadata": {},
   "source": [
    "## Baby Kyber\n",
    "\n",
    "Zaimplementuj poniższe elementy kryptosystemu Baby Kyber tak, aby osiągnąć jak największą skuteczność w testach (przy niezerowych błędach). Wymagana minimalna skuteczność to 60%."
   ]
  },
  {
   "cell_type": "markdown",
   "id": "9d5febcb",
   "metadata": {},
   "source": [
    "### Generowanie klucza\n",
    "\n",
    "Zaimplementuj funkcję `key_gen()` realizującą generowanie klucza w kryptosystemie Baby Kyber. Funkcja ma zwracać `A, t, s`. Przetestuj, czy dla podanych $A,s,e$ otrzymasz poprawny wielomian $t$.\n",
    "\n",
    "$A=\\left[\\begin{matrix}\n",
    "    6x^3+16x^2+16x+11&9x^3+4x^2+6x+3\\\\\n",
    "    5x^3+3x^2+10x+1&6x^3+x^2+9x+15\n",
    "\\end{matrix}\\right]$\n",
    "\n",
    "$\\mathbf{s}=(-x^3-x^2+x,-x^3-x)$\n",
    "\n",
    "$\\mathbf{e}=(x^2,x^2-x)$\n",
    "\n",
    "$\\mathbf{t}=A\\mathbf{s}+\\mathbf{e}:\\ \\ \\mathbf{t}=(16x^3+15x^2+7,10x^3+12x^2+11x+6)$\n",
    "\n",
    "---\n",
    "\n",
    "Najpierw przetestuję poprawność implementacji (zarówno tej funkcji, jak i klasy dla pierścienia wielomianowego) dla przykładowych, \"zahardkodowanych\" danych."
   ]
  },
  {
   "cell_type": "code",
   "execution_count": 3,
   "id": "7a408573-3551-4f1b-8327-adbfc6e030db",
   "metadata": {},
   "outputs": [],
   "source": [
    "# parametry pierścienia zgodnie z poleceniem zadania\n",
    "q = 17\n",
    "W = np.array([1, 0, 0, 0, 1])"
   ]
  },
  {
   "cell_type": "code",
   "execution_count": 4,
   "id": "43dbdf06-d99e-4d15-8f61-81bedfc3438d",
   "metadata": {},
   "outputs": [],
   "source": [
    "def key_gen_hardcoded():\n",
    "    # przepisanie wartości testowych do obiektów klasy\n",
    "    A = np.array([[ZnW(q, W, [6, 16, 16, 11]), ZnW(q, W, [9, 4, 6, 3])], \n",
    "                  [ZnW(q, W, [5, 3, 10, 1]), ZnW(q, W, [6, 1, 9, 15])]])\n",
    "    s = np.array([ZnW(q, W, [-1, -1, 1, 0]), ZnW(q, W, [-1, 0, -1, 0])])\n",
    "    e = np.array([ZnW(q, W, [1, 0, 0]), ZnW(q, W, [1, -1, 0])])\n",
    "    \n",
    "    t = A @ s + e\n",
    "    \n",
    "    return A, t, s"
   ]
  },
  {
   "cell_type": "code",
   "execution_count": 5,
   "id": "069eefca",
   "metadata": {},
   "outputs": [
    {
     "name": "stdout",
     "output_type": "stream",
     "text": [
      "A = [[6x^3 + 16x^2 + 16x + 11 9x^3 + 4x^2 + 6x + 3]\n",
      " [5x^3 + 3x^2 + 10x + 1 6x^3 + x^2 + 9x + 15]]\n",
      "\n",
      "t = [16x^3 + 15x^2 + 7 10x^3 + 12x^2 + 11x + 6]\n",
      "s = [16x^3 + 16x^2 + x 16x^3 + 16x]\n"
     ]
    }
   ],
   "source": [
    "A, t, s = key_gen_hardcoded()\n",
    "\n",
    "print(f\"A = {A}\\n\")\n",
    "print(f\"t = {t}\")\n",
    "print(f\"s = {s}\")"
   ]
  },
  {
   "cell_type": "markdown",
   "id": "60e43683",
   "metadata": {},
   "source": [
    "### Szyfrowanie\n",
    "\n",
    "Zaimplementuj funkcję `encrypt(A, t, m)` realizującą szyfrowanie w kryptosystemie Baby Kyber, gdzie wejściowe `m` jest w postaci listy. Funkcja ma zwracać szyfrogram `c`. Przetestuj poprawność działania na poniższych danych. \n",
    "\n",
    "$m=1\\cdot x^3+0\\cdot x^2+1\\cdot x+1=x^3+x+1$\n",
    "\n",
    "$\\mathbf{r}=(-x^3+x^2,x^3+x^2-1)$\n",
    "\n",
    "$\\mathbf{e_1}=(x^2+x,x^2)$\n",
    "\n",
    "$e_2=-x^3-x^2$\n",
    "\n",
    "$\\mathbf{u}=A^T\\mathbf{r}+\\mathbf{e_1}:\\ \\ \\mathbf{u}=(11x^3+11x^2+10x+3,4x^3+4x^2+13x+11)$\n",
    "\n",
    "$v=\\mathbf{t}^T\\mathbf{r}+e_2+\\lfloor\\frac{q}{2}\\rceil m:\\ \\ v=8x^3+6x^2+9x+16$\n",
    "\n",
    "$\\mathbf{c}=(\\mathbf{u},v):\\ \\ \\mathbf{c}=((11x^3+11x^2+10x+3,4x^3+4x^2+13x+11), 8x^3+6x^2+9x+16)$\n",
    "\n",
    "---\n",
    "\n",
    "Podobnie jak poprzednio, przetestuję działanie funkcji dla sztywno przyjętych danych testowych."
   ]
  },
  {
   "cell_type": "code",
   "execution_count": 6,
   "id": "fa1056b7-424b-4a96-a7f3-85192a43500a",
   "metadata": {},
   "outputs": [],
   "source": [
    "# jako że mamy dane q = 17, to hardkoduję sufit z q/2 - czyli 9\n",
    "q2_ceil = 9"
   ]
  },
  {
   "cell_type": "code",
   "execution_count": 7,
   "id": "81a11522-2d95-4d98-ae95-c567ae3e8718",
   "metadata": {},
   "outputs": [],
   "source": [
    "def encrypt_hardcoded(A, t, m):\n",
    "    # przepisanie wartości testowych do obiektów klasy\n",
    "    r = np.array([ZnW(q, W, [-1, 1, 0, 0]), ZnW(q, W, [1, 1, 0, -1])])\n",
    "    e1 = np.array([ZnW(q, W, [1, 1, 0]), ZnW(q, W, [1, 0, 0])])\n",
    "    e2 = np.array([ZnW(q, W, [-1, -1, 0, 0])])\n",
    "\n",
    "    u = A.T @ r + e1\n",
    "    v = (np.array([t.T @ r]) + e2 + q2_ceil * ZnW(q, W, m))[0]\n",
    "    \n",
    "    return (u, v)"
   ]
  },
  {
   "cell_type": "code",
   "execution_count": 8,
   "id": "902d15cc",
   "metadata": {},
   "outputs": [
    {
     "name": "stdout",
     "output_type": "stream",
     "text": [
      "c = (u, v)\n",
      "\n",
      "u = [11x^3 + 11x^2 + 10x + 3 4x^3 + 4x^2 + 13x + 11]\n",
      "v = 8x^3 + 6x^2 + 9x + 16\n"
     ]
    }
   ],
   "source": [
    "# przykładowa, testowana wiadomość w postaci listy\n",
    "m = [1, 0, 1, 1]\n",
    "\n",
    "c = encrypt_hardcoded(A, t, m)\n",
    "\n",
    "print(\"c = (u, v)\\n\")\n",
    "print(f\"u = {c[0]}\")\n",
    "print(f\"v = {c[1]}\")"
   ]
  },
  {
   "cell_type": "markdown",
   "id": "c0b5fd48",
   "metadata": {},
   "source": [
    "### Deszyfrowanie\n",
    "\n",
    "Zaimplementuj funkcję `decrypt(c, s)` realizującą deszyfrowanie w kryptosystemie Baby Kyber. Funkcja ma zwracać ostateczną odszyfrowaną wiadomość `m_n`. Przetestuj działanie na poniższych danych.\n",
    "\n",
    "$m_n=v-\\mathbf{s}^T\\mathbf{u}:\\ \\ m_n=8x^3+14x^2+8x+6$\n",
    "\n",
    "$m_n=1\\cdot x^3+0\\cdot x^2+1\\cdot x+1$\n"
   ]
  },
  {
   "cell_type": "code",
   "execution_count": 9,
   "id": "9d5ea81f",
   "metadata": {},
   "outputs": [],
   "source": [
    "def decrypt(c, s):\n",
    "    u, v = c\n",
    "    mn = v - s.T @ u\n",
    "    \n",
    "    # trochę \"naokoło\", ale poprawnie zapisany warunek dla \"zaokrąglania\" współczynników\n",
    "    mn = np.where(np.abs(mn.r - q2_ceil) < q2_ceil / 2, 1, 0)\n",
    "    \n",
    "    # zwracam również listę\n",
    "    return list(mn)"
   ]
  },
  {
   "cell_type": "code",
   "execution_count": 10,
   "id": "05250e73-6345-4a5b-a1d3-6317d1828636",
   "metadata": {},
   "outputs": [
    {
     "name": "stdout",
     "output_type": "stream",
     "text": [
      "Odszyfrowana wiadomość mn = x^3 + x + 1\n"
     ]
    }
   ],
   "source": [
    "mn = decrypt(c, s)\n",
    "\n",
    "print(f\"Odszyfrowana wiadomość mn = {ZnW(q, W, mn)}\")"
   ]
  },
  {
   "cell_type": "markdown",
   "id": "c4ed8bf0-9028-42c2-906b-1ca1a94dac25",
   "metadata": {},
   "source": [
    "\n",
    "---\n",
    "\n",
    "Wygląda na to, że implementacja jest poprawna. Teraz przejdę do implementacji funkcji działających dla ogólnego przypadku:\n",
    "1. `key_gen()`\n",
    "2. `encrypt(A, t, m)`\n",
    "\n",
    "Powyższa funkcja `decrypt(c, s)` nie wymaga drugiej \"wersji\". Zgodnie z teorią, współczynniki wielomianów w $A$ są generowane losowo z rozkładu jednostajnego (z zakresu $\\{0, 1, \\dots q-1\\}$). Z kolei pozostałe elementy, mianowicie $s$ i $e$ w generowaniu klucza oraz $r$, $e_1$ i $e_2$ przy szyfrowaniu pochodzą z rozkładu $\\beta$, który tutaj oznacza tak naprawdę odpowiednio ważony rozkład ze zbioru $\\{-1,0,1\\}$, przy czym wagi wynoszą odpowiednio 0.1, 0.8 i 0.1."
   ]
  },
  {
   "cell_type": "code",
   "execution_count": 11,
   "id": "f5d30af8-703d-4ae1-9b66-63ae6f3b1552",
   "metadata": {},
   "outputs": [],
   "source": [
    "def beta(size=4):\n",
    "    return np.random.choice(a=[-1, 0, 1], size=size, p=[0.1, 0.8, 0.1])"
   ]
  },
  {
   "cell_type": "markdown",
   "id": "bff3bf35-d3de-45fd-9f2a-4d732b03c870",
   "metadata": {},
   "source": [
    "W przypadku wektorów pochodzących z rozkładu $\\beta$ nie chcemy dopuścić do sytuacji, w której __wszystkie__ elementy tego wektora (wielomiany o stopniu co najwyżej 3) mają __wszystkie__ współczynniki zerowe (ogólnie mogą wystąpić takie wielomiany, ale musi być jakiś wielomian niezerowy). Poniższa funkcja zapobiega takim sytuacjom."
   ]
  },
  {
   "cell_type": "code",
   "execution_count": 12,
   "id": "2ce5df8b-5af8-4695-8493-7d8c4f9b4ec4",
   "metadata": {},
   "outputs": [],
   "source": [
    "def verify(array):\n",
    "    for element in array:\n",
    "        if not np.all(element == 0):\n",
    "            return True\n",
    "    \n",
    "    return False"
   ]
  },
  {
   "cell_type": "code",
   "execution_count": 13,
   "id": "102bf9c4-ad2c-4cdb-a622-5320d2ec540e",
   "metadata": {},
   "outputs": [],
   "source": [
    "def key_gen():\n",
    "    A = np.array([[ZnW(q, W, np.random.randint(low=0, high=q, size=4)), ZnW(q, W, np.random.randint(low=0, high=q, size=4))], \n",
    "                  [ZnW(q, W, np.random.randint(low=0, high=q, size=4)), ZnW(q, W, np.random.randint(low=0, high=q, size=4))]])\n",
    "    \n",
    "    s = np.array([ZnW(q, W, beta()), ZnW(q, W, beta())])\n",
    "    while not verify(s): s = np.array([ZnW(q, W, beta()), ZnW(q, W, beta())])\n",
    "    \n",
    "    e = np.array([ZnW(q, W, beta()), ZnW(q, W, beta())])\n",
    "    while not verify(e): e = np.array([ZnW(q, W, beta()), ZnW(q, W, beta())])\n",
    "    \n",
    "    t = A @ s + e\n",
    "    \n",
    "    return A, t, s"
   ]
  },
  {
   "cell_type": "code",
   "execution_count": 14,
   "id": "39cc6cdd-0c7c-492d-a24f-d349c0372564",
   "metadata": {},
   "outputs": [],
   "source": [
    "def encrypt(A, t, m):\n",
    "    r = np.array([ZnW(q, W, beta()), ZnW(q, W, beta())])\n",
    "    while not verify(r): r = np.array([ZnW(q, W, beta()), ZnW(q, W, beta())])\n",
    "    \n",
    "    e1 = np.array([ZnW(q, W, beta()), ZnW(q, W, beta())])\n",
    "    while not verify(e1): e1 = np.array([ZnW(q, W, beta()), ZnW(q, W, beta())])\n",
    "    \n",
    "    e2 = np.array([ZnW(q, W, beta())])\n",
    "    while not verify(e2): e2 = np.array([ZnW(q, W, beta())])\n",
    "\n",
    "    u = A.T @ r + e1\n",
    "    v = (np.array([t.T @ r]) + e2 + q2_ceil * ZnW(q, W, m))[0]\n",
    "    \n",
    "    return (u, v)"
   ]
  },
  {
   "cell_type": "markdown",
   "id": "c3bf409c",
   "metadata": {},
   "source": [
    "### Testy"
   ]
  },
  {
   "cell_type": "code",
   "execution_count": 15,
   "id": "839e9142",
   "metadata": {},
   "outputs": [
    {
     "name": "stdout",
     "output_type": "stream",
     "text": [
      "Success rate: 74.3%\n"
     ]
    }
   ],
   "source": [
    "import secrets as sc\n",
    "\n",
    "success = 0\n",
    "\n",
    "for i in range(1000):\n",
    "    output = []\n",
    "    A, t, s = key_gen()\n",
    "    \n",
    "    m = [sc.choice((0, 1)) for k in range(4)]\n",
    "    \n",
    "    c = encrypt(A, t, m)\n",
    "    m_n = decrypt(c, s)\n",
    "\n",
    "    if m_n == m:\n",
    "        success += 1\n",
    "\n",
    "print(f'Success rate: {success * 100 / 1000}%')"
   ]
  }
 ],
 "metadata": {
  "kernelspec": {
   "display_name": "Python 3 (ipykernel)",
   "language": "python",
   "name": "python3"
  },
  "language_info": {
   "codemirror_mode": {
    "name": "ipython",
    "version": 3
   },
   "file_extension": ".py",
   "mimetype": "text/x-python",
   "name": "python",
   "nbconvert_exporter": "python",
   "pygments_lexer": "ipython3",
   "version": "3.9.18"
  }
 },
 "nbformat": 4,
 "nbformat_minor": 5
}
